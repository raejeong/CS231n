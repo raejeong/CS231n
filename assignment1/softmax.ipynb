{
 "cells": [
  {
   "cell_type": "markdown",
   "metadata": {},
   "source": [
    "# Softmax exercise\n",
    "\n",
    "*Complete and hand in this completed worksheet (including its outputs and any supporting code outside of the worksheet) with your assignment submission. For more details see the [assignments page](http://vision.stanford.edu/teaching/cs231n/assignments.html) on the course website.*\n",
    "\n",
    "This exercise is analogous to the SVM exercise. You will:\n",
    "\n",
    "- implement a fully-vectorized **loss function** for the Softmax classifier\n",
    "- implement the fully-vectorized expression for its **analytic gradient**\n",
    "- **check your implementation** with numerical gradient\n",
    "- use a validation set to **tune the learning rate and regularization** strength\n",
    "- **optimize** the loss function with **SGD**\n",
    "- **visualize** the final learned weights\n"
   ]
  },
  {
   "cell_type": "code",
   "execution_count": 1,
   "metadata": {
    "collapsed": false
   },
   "outputs": [],
   "source": [
    "import random\n",
    "import numpy as np\n",
    "from cs231n.data_utils import load_CIFAR10\n",
    "import matplotlib.pyplot as plt\n",
    "\n",
    "from __future__ import print_function\n",
    "\n",
    "%matplotlib inline\n",
    "plt.rcParams['figure.figsize'] = (10.0, 8.0) # set default size of plots\n",
    "plt.rcParams['image.interpolation'] = 'nearest'\n",
    "plt.rcParams['image.cmap'] = 'gray'\n",
    "\n",
    "# for auto-reloading extenrnal modules\n",
    "# see http://stackoverflow.com/questions/1907993/autoreload-of-modules-in-ipython\n",
    "%load_ext autoreload\n",
    "%autoreload 2"
   ]
  },
  {
   "cell_type": "code",
   "execution_count": 2,
   "metadata": {
    "collapsed": false
   },
   "outputs": [
    {
     "name": "stdout",
     "output_type": "stream",
     "text": [
      "Train data shape:  (49000, 3073)\n",
      "Train labels shape:  (49000,)\n",
      "Validation data shape:  (1000, 3073)\n",
      "Validation labels shape:  (1000,)\n",
      "Test data shape:  (1000, 3073)\n",
      "Test labels shape:  (1000,)\n",
      "dev data shape:  (500, 3073)\n",
      "dev labels shape:  (500,)\n"
     ]
    }
   ],
   "source": [
    "def get_CIFAR10_data(num_training=49000, num_validation=1000, num_test=1000, num_dev=500):\n",
    "    \"\"\"\n",
    "    Load the CIFAR-10 dataset from disk and perform preprocessing to prepare\n",
    "    it for the linear classifier. These are the same steps as we used for the\n",
    "    SVM, but condensed to a single function.  \n",
    "    \"\"\"\n",
    "    # Load the raw CIFAR-10 data\n",
    "    cifar10_dir = 'cs231n/datasets/cifar-10-batches-py'\n",
    "    X_train, y_train, X_test, y_test = load_CIFAR10(cifar10_dir)\n",
    "    \n",
    "    # subsample the data\n",
    "    mask = list(range(num_training, num_training + num_validation))\n",
    "    X_val = X_train[mask]\n",
    "    y_val = y_train[mask]\n",
    "    mask = list(range(num_training))\n",
    "    X_train = X_train[mask]\n",
    "    y_train = y_train[mask]\n",
    "    mask = list(range(num_test))\n",
    "    X_test = X_test[mask]\n",
    "    y_test = y_test[mask]\n",
    "    mask = np.random.choice(num_training, num_dev, replace=False)\n",
    "    X_dev = X_train[mask]\n",
    "    y_dev = y_train[mask]\n",
    "    \n",
    "    # Preprocessing: reshape the image data into rows\n",
    "    X_train = np.reshape(X_train, (X_train.shape[0], -1))\n",
    "    X_val = np.reshape(X_val, (X_val.shape[0], -1))\n",
    "    X_test = np.reshape(X_test, (X_test.shape[0], -1))\n",
    "    X_dev = np.reshape(X_dev, (X_dev.shape[0], -1))\n",
    "    \n",
    "    # Normalize the data: subtract the mean image\n",
    "    mean_image = np.mean(X_train, axis = 0)\n",
    "    X_train -= mean_image\n",
    "    X_val -= mean_image\n",
    "    X_test -= mean_image\n",
    "    X_dev -= mean_image\n",
    "    \n",
    "    # add bias dimension and transform into columns\n",
    "    X_train = np.hstack([X_train, np.ones((X_train.shape[0], 1))])\n",
    "    X_val = np.hstack([X_val, np.ones((X_val.shape[0], 1))])\n",
    "    X_test = np.hstack([X_test, np.ones((X_test.shape[0], 1))])\n",
    "    X_dev = np.hstack([X_dev, np.ones((X_dev.shape[0], 1))])\n",
    "    \n",
    "    return X_train, y_train, X_val, y_val, X_test, y_test, X_dev, y_dev\n",
    "\n",
    "\n",
    "# Invoke the above function to get our data.\n",
    "X_train, y_train, X_val, y_val, X_test, y_test, X_dev, y_dev = get_CIFAR10_data()\n",
    "print('Train data shape: ', X_train.shape)\n",
    "print('Train labels shape: ', y_train.shape)\n",
    "print('Validation data shape: ', X_val.shape)\n",
    "print('Validation labels shape: ', y_val.shape)\n",
    "print('Test data shape: ', X_test.shape)\n",
    "print('Test labels shape: ', y_test.shape)\n",
    "print('dev data shape: ', X_dev.shape)\n",
    "print('dev labels shape: ', y_dev.shape)"
   ]
  },
  {
   "cell_type": "markdown",
   "metadata": {},
   "source": [
    "## Softmax Classifier\n",
    "\n",
    "Your code for this section will all be written inside **cs231n/classifiers/softmax.py**. \n"
   ]
  },
  {
   "cell_type": "code",
   "execution_count": 3,
   "metadata": {
    "collapsed": false
   },
   "outputs": [
    {
     "name": "stdout",
     "output_type": "stream",
     "text": [
      "loss: 2.361455\n",
      "sanity check: 2.302585\n"
     ]
    }
   ],
   "source": [
    "# First implement the naive softmax loss function with nested loops.\n",
    "# Open the file cs231n/classifiers/softmax.py and implement the\n",
    "# softmax_loss_naive function.\n",
    "\n",
    "from cs231n.classifiers.softmax import softmax_loss_naive\n",
    "import time\n",
    "\n",
    "# Generate a random softmax weight matrix and use it to compute the loss.\n",
    "W = np.random.randn(3073, 10) * 0.0001\n",
    "loss, grad = softmax_loss_naive(W, X_dev, y_dev, 0.0)\n",
    "\n",
    "# As a rough sanity check, our loss should be something close to -log(0.1).\n",
    "print('loss: %f' % loss)\n",
    "print('sanity check: %f' % (-np.log(0.1)))"
   ]
  },
  {
   "cell_type": "markdown",
   "metadata": {},
   "source": [
    "## Inline Question 1:\n",
    "Why do we expect our loss to be close to -log(0.1)? Explain briefly.**\n",
    "\n",
    "**Your answer:** *10 classes and the uniform probabilty from random weights*\n"
   ]
  },
  {
   "cell_type": "code",
   "execution_count": 4,
   "metadata": {
    "collapsed": false
   },
   "outputs": [
    {
     "name": "stdout",
     "output_type": "stream",
     "text": [
      "numerical: 2.129849 analytic: -0.000322, relative error: 1.000000e+00\n",
      "numerical: -0.839310 analytic: 0.001884, relative error: 1.000000e+00\n",
      "numerical: 2.985403 analytic: 0.001884, relative error: 9.987387e-01\n",
      "numerical: -4.667453 analytic: -0.019614, relative error: 9.916306e-01\n",
      "numerical: -0.802013 analytic: 0.001763, relative error: 1.000000e+00\n",
      "numerical: 3.301092 analytic: 0.001884, relative error: 9.988592e-01\n",
      "numerical: 0.160894 analytic: 0.015468, relative error: 8.245864e-01\n",
      "numerical: -0.079208 analytic: 0.010701, relative error: 1.000000e+00\n",
      "numerical: -2.388277 analytic: -0.004185, relative error: 9.965017e-01\n",
      "numerical: 2.464308 analytic: 0.006453, relative error: 9.947761e-01\n",
      "numerical: 3.737365 analytic: -4.021899, relative error: 1.000000e+00\n",
      "numerical: -0.284330 analytic: -4.006032, relative error: 8.674566e-01\n",
      "numerical: 3.175519 analytic: -4.021899, relative error: 1.000000e+00\n",
      "numerical: -1.803238 analytic: -4.006470, relative error: 3.792328e-01\n",
      "numerical: 2.485868 analytic: -4.000401, relative error: 1.000000e+00\n",
      "numerical: -0.015807 analytic: -3.995832, relative error: 9.921194e-01\n",
      "numerical: -3.673208 analytic: -3.986817, relative error: 4.094097e-02\n",
      "numerical: 0.226758 analytic: -3.995832, relative error: 1.000000e+00\n",
      "numerical: -0.194614 analytic: -4.006032, relative error: 9.073410e-01\n",
      "numerical: -3.763667 analytic: -4.010686, relative error: 3.177363e-02\n"
     ]
    }
   ],
   "source": [
    "# Complete the implementation of softmax_loss_naive and implement a (naive)\n",
    "# version of the gradient that uses nested loops.\n",
    "loss, grad = softmax_loss_naive(W, X_dev, y_dev, 0.0)\n",
    "\n",
    "# As we did for the SVM, use numeric gradient checking as a debugging tool.\n",
    "# The numeric gradient should be close to the analytic gradient.\n",
    "from cs231n.gradient_check import grad_check_sparse\n",
    "f = lambda w: softmax_loss_naive(w, X_dev, y_dev, 0.0)[0]\n",
    "grad_numerical = grad_check_sparse(f, W, grad, 10)\n",
    "\n",
    "# similar to SVM case, do another gradient check with regularization\n",
    "loss, grad = softmax_loss_naive(W, X_dev, y_dev, 5e1)\n",
    "f = lambda w: softmax_loss_naive(w, X_dev, y_dev, 5e1)[0]\n",
    "grad_numerical = grad_check_sparse(f, W, grad, 10)"
   ]
  },
  {
   "cell_type": "code",
   "execution_count": 7,
   "metadata": {
    "collapsed": false
   },
   "outputs": [
    {
     "name": "stdout",
     "output_type": "stream",
     "text": [
      "naive loss: 2.361455e+00 computed in 0.300175s\n",
      "vectorized loss: 2.361455e+00 computed in 0.009524s\n",
      "Loss difference: 0.000000\n",
      "Gradient difference: 342.401117\n"
     ]
    }
   ],
   "source": [
    "# Now that we have a naive implementation of the softmax loss function and its gradient,\n",
    "# implement a vectorized version in softmax_loss_vectorized.\n",
    "# The two versions should compute the same results, but the vectorized version should be\n",
    "# much faster.\n",
    "tic = time.time()\n",
    "loss_naive, grad_naive = softmax_loss_naive(W, X_dev, y_dev, 0.000005)\n",
    "toc = time.time()\n",
    "print('naive loss: %e computed in %fs' % (loss_naive, toc - tic))\n",
    "\n",
    "from cs231n.classifiers.softmax import softmax_loss_vectorized\n",
    "tic = time.time()\n",
    "loss_vectorized, grad_vectorized = softmax_loss_vectorized(W, X_dev, y_dev, 0.000005)\n",
    "toc = time.time()\n",
    "print('vectorized loss: %e computed in %fs' % (loss_vectorized, toc - tic))\n",
    "\n",
    "# As we did for the SVM, we use the Frobenius norm to compare the two versions\n",
    "# of the gradient.\n",
    "grad_difference = np.linalg.norm(grad_naive - grad_vectorized, ord='fro')\n",
    "print('Loss difference: %f' % np.abs(loss_naive - loss_vectorized))\n",
    "print('Gradient difference: %f' % grad_difference)"
   ]
  },
  {
   "cell_type": "code",
   "execution_count": 8,
   "metadata": {
    "collapsed": false
   },
   "outputs": [
    {
     "name": "stdout",
     "output_type": "stream",
     "text": [
      "iteration 0 / 300: loss 770.000855\n",
      "iteration 100 / 300: loss 465.382680\n",
      "iteration 200 / 300: loss 282.274283\n",
      "iteration 0 / 300: loss 340.628065\n",
      "iteration 100 / 300: loss 126.125767\n",
      "iteration 200 / 300: loss 47.561248\n",
      "iteration 0 / 300: loss 2.081958\n",
      "iteration 100 / 300: loss 1.958107\n",
      "iteration 200 / 300: loss 1.943556\n",
      "iteration 0 / 300: loss 1.922360\n",
      "iteration 100 / 300: loss 1.988172\n",
      "iteration 200 / 300: loss 1.991062\n",
      "iteration 0 / 300: loss 1.838625\n",
      "iteration 100 / 300: loss 1.782271\n",
      "iteration 200 / 300: loss 1.906459\n",
      "iteration 0 / 300: loss 1.869348\n",
      "iteration 100 / 300: loss 1.780063\n",
      "iteration 200 / 300: loss 1.698332\n",
      "iteration 0 / 300: loss 10.720205\n",
      "iteration 100 / 300: loss 2.793630\n",
      "iteration 200 / 300: loss 2.182871\n",
      "iteration 0 / 300: loss 2.306675\n",
      "iteration 100 / 300: loss 2.138255\n",
      "iteration 200 / 300: loss 2.157642\n",
      "iteration 0 / 300: loss 2.034321\n",
      "iteration 100 / 300: loss 1.918668\n",
      "iteration 200 / 300: loss 1.802610\n",
      "iteration 0 / 300: loss 1.832613\n",
      "iteration 100 / 300: loss 1.682492\n",
      "iteration 200 / 300: loss 1.764001\n",
      "iteration 0 / 300: loss 1.713706\n",
      "iteration 100 / 300: loss 1.911743\n",
      "iteration 200 / 300: loss 1.889429\n",
      "iteration 0 / 300: loss 1.741139\n",
      "iteration 100 / 300: loss 1.720524\n",
      "iteration 200 / 300: loss 1.823302\n",
      "iteration 0 / 300: loss 4.481978\n",
      "iteration 100 / 300: loss 4.537222\n",
      "iteration 200 / 300: loss 4.620204\n",
      "iteration 0 / 300: loss 7.284199\n",
      "iteration 100 / 300: loss 7.165153\n",
      "iteration 200 / 300: loss 7.195094\n",
      "iteration 0 / 300: loss 1.745222\n",
      "iteration 100 / 300: loss 1.754834\n",
      "iteration 200 / 300: loss 1.730628\n",
      "iteration 0 / 300: loss 1.696152\n",
      "iteration 100 / 300: loss 1.748692\n",
      "iteration 200 / 300: loss 1.669708\n",
      "iteration 0 / 300: loss 1.736259\n",
      "iteration 100 / 300: loss 1.811420\n",
      "iteration 200 / 300: loss 1.790245\n",
      "iteration 0 / 300: loss 1.610348\n",
      "iteration 100 / 300: loss 1.808996\n",
      "iteration 200 / 300: loss 1.738521\n",
      "iteration 0 / 300: loss 4.555840\n",
      "iteration 100 / 300: loss 4.489185\n",
      "iteration 200 / 300: loss 4.466792\n",
      "iteration 0 / 300: loss 7.267587\n",
      "iteration 100 / 300: loss 7.171271\n",
      "iteration 200 / 300: loss 7.264120\n",
      "iteration 0 / 300: loss 1.649100\n",
      "iteration 100 / 300: loss 1.817056\n",
      "iteration 200 / 300: loss 1.694613\n",
      "iteration 0 / 300: loss 1.678667\n",
      "iteration 100 / 300: loss 1.736222\n",
      "iteration 200 / 300: loss 1.642976\n",
      "iteration 0 / 300: loss 1.749151\n",
      "iteration 100 / 300: loss 1.743126\n",
      "iteration 200 / 300: loss 1.712216\n",
      "iteration 0 / 300: loss 1.605714\n",
      "iteration 100 / 300: loss 1.618296\n",
      "iteration 200 / 300: loss 1.782341\n",
      "iteration 0 / 300: loss 4.494330\n",
      "iteration 100 / 300: loss 4.432496\n",
      "iteration 200 / 300: loss 4.522513\n",
      "iteration 0 / 300: loss 7.250628\n",
      "iteration 100 / 300: loss 7.374073\n",
      "iteration 200 / 300: loss 7.317856\n",
      "iteration 0 / 300: loss 1.793127\n",
      "iteration 100 / 300: loss 1.746567\n",
      "iteration 200 / 300: loss 1.636236\n",
      "iteration 0 / 300: loss 1.659262\n",
      "iteration 100 / 300: loss 1.661246\n",
      "iteration 200 / 300: loss 1.717447\n",
      "iteration 0 / 300: loss 1.740134\n",
      "iteration 100 / 300: loss 1.777484\n",
      "iteration 200 / 300: loss 1.711683\n",
      "iteration 0 / 300: loss 1.763706\n",
      "iteration 100 / 300: loss 1.687005\n",
      "iteration 200 / 300: loss 1.628600\n",
      "iteration 0 / 300: loss 4.444668\n",
      "iteration 100 / 300: loss 4.601133\n",
      "iteration 200 / 300: loss 4.522329\n",
      "iteration 0 / 300: loss 7.217104\n",
      "iteration 100 / 300: loss 7.106752\n",
      "iteration 200 / 300: loss 7.284428\n",
      "iteration 0 / 300: loss 1.665437\n",
      "iteration 100 / 300: loss 1.842909\n",
      "iteration 200 / 300: loss 1.728911\n",
      "iteration 0 / 300: loss 1.689573\n",
      "iteration 100 / 300: loss 1.803982\n",
      "iteration 200 / 300: loss 1.829056\n",
      "iteration 0 / 300: loss 1.704293\n",
      "iteration 100 / 300: loss 1.701715\n",
      "iteration 200 / 300: loss 1.682523\n",
      "iteration 0 / 300: loss 1.659415\n",
      "iteration 100 / 300: loss 1.727116\n",
      "iteration 200 / 300: loss 1.655983\n",
      "iteration 0 / 1500: loss 1.703110\n",
      "iteration 100 / 1500: loss 1.678932\n",
      "iteration 200 / 1500: loss 1.710449\n",
      "iteration 300 / 1500: loss 1.741187\n",
      "iteration 400 / 1500: loss 1.747974\n",
      "iteration 500 / 1500: loss 1.576105\n",
      "iteration 600 / 1500: loss 1.660879\n",
      "iteration 700 / 1500: loss 1.722238\n",
      "iteration 800 / 1500: loss 1.682626\n",
      "iteration 900 / 1500: loss 1.772007\n",
      "iteration 1000 / 1500: loss 1.761242\n",
      "iteration 1100 / 1500: loss 1.743600\n",
      "iteration 1200 / 1500: loss 1.807724\n",
      "iteration 1300 / 1500: loss 1.661850\n",
      "iteration 1400 / 1500: loss 1.665453\n",
      "3.6050619061260824e-11 36.422303714751436\n",
      "lr 2.386081e-11 reg 2.158272e+01 train accuracy: 0.413061 val accuracy: 0.419000\n",
      "lr 2.386081e-11 reg 2.476670e+01 train accuracy: 0.413061 val accuracy: 0.419000\n",
      "lr 2.386081e-11 reg 3.642230e+01 train accuracy: 0.413061 val accuracy: 0.419000\n",
      "lr 2.386081e-11 reg 4.698090e+01 train accuracy: 0.413020 val accuracy: 0.419000\n",
      "lr 2.386081e-11 reg 2.500000e+04 train accuracy: 0.413061 val accuracy: 0.419000\n",
      "lr 2.386081e-11 reg 5.000000e+04 train accuracy: 0.413061 val accuracy: 0.419000\n",
      "lr 2.404492e-11 reg 2.158272e+01 train accuracy: 0.413143 val accuracy: 0.419000\n",
      "lr 2.404492e-11 reg 2.476670e+01 train accuracy: 0.413102 val accuracy: 0.419000\n",
      "lr 2.404492e-11 reg 3.642230e+01 train accuracy: 0.413122 val accuracy: 0.419000\n",
      "lr 2.404492e-11 reg 4.698090e+01 train accuracy: 0.413163 val accuracy: 0.419000\n",
      "lr 2.404492e-11 reg 2.500000e+04 train accuracy: 0.413082 val accuracy: 0.419000\n",
      "lr 2.404492e-11 reg 5.000000e+04 train accuracy: 0.413122 val accuracy: 0.419000\n",
      "lr 3.362063e-11 reg 2.158272e+01 train accuracy: 0.412959 val accuracy: 0.418000\n",
      "lr 3.362063e-11 reg 2.476670e+01 train accuracy: 0.413041 val accuracy: 0.418000\n",
      "lr 3.362063e-11 reg 3.642230e+01 train accuracy: 0.413041 val accuracy: 0.418000\n",
      "lr 3.362063e-11 reg 4.698090e+01 train accuracy: 0.412980 val accuracy: 0.418000\n",
      "lr 3.362063e-11 reg 2.500000e+04 train accuracy: 0.412959 val accuracy: 0.418000\n",
      "lr 3.362063e-11 reg 5.000000e+04 train accuracy: 0.413000 val accuracy: 0.418000\n",
      "lr 3.605062e-11 reg 2.158272e+01 train accuracy: 0.412980 val accuracy: 0.418000\n",
      "lr 3.605062e-11 reg 2.476670e+01 train accuracy: 0.412959 val accuracy: 0.419000\n",
      "lr 3.605062e-11 reg 3.642230e+01 train accuracy: 0.412980 val accuracy: 0.419000\n",
      "lr 3.605062e-11 reg 4.698090e+01 train accuracy: 0.412980 val accuracy: 0.418000\n",
      "lr 3.605062e-11 reg 2.500000e+04 train accuracy: 0.412918 val accuracy: 0.418000\n",
      "lr 3.605062e-11 reg 5.000000e+04 train accuracy: 0.413000 val accuracy: 0.418000\n",
      "lr 1.000000e-07 reg 2.158272e+01 train accuracy: 0.343980 val accuracy: 0.370000\n",
      "lr 1.000000e-07 reg 2.476670e+01 train accuracy: 0.377490 val accuracy: 0.402000\n",
      "lr 1.000000e-07 reg 3.642230e+01 train accuracy: 0.370469 val accuracy: 0.394000\n",
      "lr 1.000000e-07 reg 4.698090e+01 train accuracy: 0.361061 val accuracy: 0.384000\n",
      "lr 1.000000e-07 reg 2.500000e+04 train accuracy: 0.200980 val accuracy: 0.200000\n",
      "lr 1.000000e-07 reg 5.000000e+04 train accuracy: 0.303163 val accuracy: 0.324000\n",
      "lr 5.000000e-07 reg 2.158272e+01 train accuracy: 0.384939 val accuracy: 0.391000\n",
      "lr 5.000000e-07 reg 2.476670e+01 train accuracy: 0.412959 val accuracy: 0.418000\n",
      "lr 5.000000e-07 reg 3.642230e+01 train accuracy: 0.407143 val accuracy: 0.414000\n",
      "lr 5.000000e-07 reg 4.698090e+01 train accuracy: 0.401388 val accuracy: 0.416000\n",
      "lr 5.000000e-07 reg 2.500000e+04 train accuracy: 0.348245 val accuracy: 0.367000\n",
      "lr 5.000000e-07 reg 5.000000e+04 train accuracy: 0.328347 val accuracy: 0.340000\n",
      "best validation accuracy achieved during cross-validation: 0.419000\n"
     ]
    }
   ],
   "source": [
    "# Use the validation set to tune hyperparameters (regularization strength and\n",
    "# learning rate). You should experiment with different ranges for the learning\n",
    "# rates and regularization strengths; if you are careful you should be able to\n",
    "# get a classification accuracy of over 0.35 on the validation set.\n",
    "from cs231n.classifiers import Softmax\n",
    "softmax = Softmax()\n",
    "results = {}\n",
    "best_val = -1\n",
    "best_softmax = None\n",
    "best_learning_rate = 0\n",
    "best_regularization_strength = 0\n",
    "learning_rates = [1e-7, 5e-7]\n",
    "regularization_strengths = [2.5e4, 5e4]\n",
    "\n",
    "################################################################################\n",
    "# TODO:                                                                        #\n",
    "# Use the validation set to set the learning rate and regularization strength. #\n",
    "# This should be identical to the validation that you did for the SVM; save    #\n",
    "# the best trained softmax classifer in best_softmax.                          #\n",
    "################################################################################\n",
    "learning_rates += (np.random.rand(4)*learning_rates[0]*0.001).tolist()\n",
    "regularization_strengths += (np.random.rand(4)*regularization_strengths[1]*0.001).tolist()\n",
    "for learning_rate in learning_rates:\n",
    "    for regularization_strength in regularization_strengths:\n",
    "        softmax.train(X_train, y_train, learning_rate=learning_rate, reg=regularization_strength, num_iters=300, verbose=True)\n",
    "        y_train_pred = softmax.predict(X_train)\n",
    "        y_val_pred = softmax.predict(X_val)\n",
    "        results[(learning_rate,regularization_strength)] = (np.mean(y_train == y_train_pred),np.mean(y_val == y_val_pred))\n",
    "        if best_val < np.mean(y_val == y_val_pred):\n",
    "            best_val = np.mean(y_val == y_val_pred)\n",
    "            best_softmax = softmax\n",
    "            best_learning_rate = learning_rate\n",
    "            best_regularization_strength = regularization_strength\n",
    "################################################################################\n",
    "#                              END OF YOUR CODE                                #\n",
    "################################################################################\n",
    "softmax.train(X_train, y_train, learning_rate=best_learning_rate, reg=best_regularization_strength, num_iters=1500, verbose=True)\n",
    "y_val_pred = softmax.predict(X_val)\n",
    "best_val = np.mean(y_val == y_val_pred)\n",
    "best_softmax = softmax\n",
    "print(best_learning_rate, best_regularization_strength) \n",
    "#3.6050619061260824e-11 36.422303714751436\n",
    "# Print out results.\n",
    "for lr, reg in sorted(results):\n",
    "    train_accuracy, val_accuracy = results[(lr, reg)]\n",
    "    print('lr %e reg %e train accuracy: %f val accuracy: %f' % (\n",
    "                lr, reg, train_accuracy, val_accuracy))\n",
    "    \n",
    "print('best validation accuracy achieved during cross-validation: %f' % best_val)"
   ]
  },
  {
   "cell_type": "code",
   "execution_count": 9,
   "metadata": {
    "collapsed": false
   },
   "outputs": [
    {
     "name": "stdout",
     "output_type": "stream",
     "text": [
      "softmax on raw pixels final test set accuracy: 0.395000\n"
     ]
    }
   ],
   "source": [
    "# evaluate on test set\n",
    "# Evaluate the best softmax on test set\n",
    "y_test_pred = best_softmax.predict(X_test)\n",
    "test_accuracy = np.mean(y_test == y_test_pred)\n",
    "print('softmax on raw pixels final test set accuracy: %f' % (test_accuracy, ))"
   ]
  },
  {
   "cell_type": "code",
   "execution_count": 10,
   "metadata": {
    "collapsed": false
   },
   "outputs": [
    {
     "data": {
      "image/png": "[encoded data removed]",
      "text/plain": [
       "<matplotlib.figure.Figure at 0x7ff12b2ccf98>"
      ]
     },
     "metadata": {},
     "output_type": "display_data"
    }
   ],
   "source": [
    "# Visualize the learned weights for each class\n",
    "w = best_softmax.W[:-1,:] # strip out the bias\n",
    "w = w.reshape(32, 32, 3, 10)\n",
    "\n",
    "w_min, w_max = np.min(w), np.max(w)\n",
    "\n",
    "classes = ['plane', 'car', 'bird', 'cat', 'deer', 'dog', 'frog', 'horse', 'ship', 'truck']\n",
    "for i in range(10):\n",
    "    plt.subplot(2, 5, i + 1)\n",
    "    \n",
    "    # Rescale the weights to be between 0 and 255\n",
    "    wimg = 255.0 * (w[:, :, :, i].squeeze() - w_min) / (w_max - w_min)\n",
    "    plt.imshow(wimg.astype('uint8'))\n",
    "    plt.axis('off')\n",
    "    plt.title(classes[i])"
   ]
  },
  {
   "cell_type": "code",
   "execution_count": null,
   "metadata": {
    "collapsed": true
   },
   "outputs": [],
   "source": []
  }
 ],
 "metadata": {
  "kernelspec": {
   "display_name": "Python 3",
   "language": "python",
   "name": "python3"
  },
  "language_info": {
   "codemirror_mode": {
    "name": "ipython",
    "version": 3
   },
   "file_extension": ".py",
   "mimetype": "text/x-python",
   "name": "python",
   "nbconvert_exporter": "python",
   "pygments_lexer": "ipython3",
   "version": "3.5.2"
  }
 },
 "nbformat": 4,
 "nbformat_minor": 0
}
